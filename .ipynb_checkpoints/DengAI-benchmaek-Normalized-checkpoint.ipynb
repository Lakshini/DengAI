{
 "cells": [
  {
   "cell_type": "code",
   "execution_count": 1,
   "metadata": {
    "collapsed": true
   },
   "outputs": [],
   "source": [
    "from __future__ import print_function\n",
    "from __future__ import division\n",
    "%matplotlib inline\n",
    "import pandas as pd\n",
    "import numpy as np\n",
    "\n",
    "from matplotlib import pyplot as plt\n",
    "import seaborn as sns\n",
    "\n",
    "from sklearn.model_selection import train_test_split\n",
    "import statsmodels.api as sm\n",
    "\n",
    "# just for the sake of this blog post!\n",
    "from warnings import filterwarnings\n",
    "filterwarnings('ignore')"
   ]
  },
  {
   "cell_type": "code",
   "execution_count": 2,
   "metadata": {
    "collapsed": true
   },
   "outputs": [],
   "source": [
    "# load the provided data\n",
    "train_features = pd.read_csv('data-processed/dengue_features_train.csv',\n",
    "                             index_col=[0,1,2])\n",
    "\n",
    "train_labels = pd.read_csv('data-processed/dengue_labels_train.csv',\n",
    "                           index_col=[0,1,2])"
   ]
  },
  {
   "cell_type": "code",
   "execution_count": 3,
   "metadata": {},
   "outputs": [
    {
     "data": {
      "text/plain": [
       "(1456, 21)"
      ]
     },
     "execution_count": 3,
     "metadata": {},
     "output_type": "execute_result"
    }
   ],
   "source": [
    "train_features.shape"
   ]
  },
  {
   "cell_type": "code",
   "execution_count": 4,
   "metadata": {
    "collapsed": true
   },
   "outputs": [],
   "source": [
    "train_features_shifted1 = train_features.shift(1,axis = 0)\n",
    "train_features_shifted2 = train_features.shift(2,axis = 0)"
   ]
  },
  {
   "cell_type": "code",
   "execution_count": 5,
   "metadata": {
    "collapsed": true
   },
   "outputs": [],
   "source": [
    "train_features_shifted1 = train_features_shifted1.rename(columns={'week_start_date':'week_start_date_pr1',\n",
    " 'ndvi_ne':'ndvi_ne_pr1',\n",
    " 'ndvi_nw':'ndvi_nw_pr1',\n",
    " 'ndvi_se':'ndvi_se_Pr1',\n",
    " 'ndvi_sw':'ndvi_sw_pr1',\n",
    " 'precipitation_amt_mm':'precipitation_amt_mm_pr1',\n",
    " 'reanalysis_air_temp_k':'reanalysis_air_temp_k_pr1',\n",
    " 'reanalysis_avg_temp_k':'reanalysis_avg_temp_k_pr1',\n",
    " 'reanalysis_dew_point_temp_k':'reanalysis_dew_point_temp_k_pr1',\n",
    " 'reanalysis_max_air_temp_k':'reanalysis_max_air_temp_k_pr1',\n",
    " 'reanalysis_min_air_temp_k':'reanalysis_min_air_temp_k_pr1',\n",
    " 'reanalysis_precip_amt_kg_per_m2':'reanalysis_precip_amt_kg_per_m2_pr1',\n",
    " 'reanalysis_relative_humidity_percent':'reanalysis_relative_humidity_percent_pr1',\n",
    " 'reanalysis_sat_precip_amt_mm':'reanalysis_sat_precip_amt_mm_pr1',\n",
    " 'reanalysis_specific_humidity_g_per_kg':'reanalysis_specific_humidity_g_per_kg_pr1',\n",
    " 'reanalysis_tdtr_k':'reanalysis_tdtr_k_pr1',\n",
    " 'station_avg_temp_c':'station_avg_temp_c_pr1',\n",
    " 'station_diur_temp_rng_c':'station_diur_temp_rng_c_pr1',\n",
    " 'station_max_temp_c':'station_max_temp_c_pr1',\n",
    " 'station_min_temp_c':'station_min_temp_c_pr1',\n",
    " 'station_precip_mm':'station_precip_mm_pr1'})"
   ]
  },
  {
   "cell_type": "code",
   "execution_count": 6,
   "metadata": {},
   "outputs": [
    {
     "data": {
      "text/html": [
       "<div>\n",
       "<style scoped>\n",
       "    .dataframe tbody tr th:only-of-type {\n",
       "        vertical-align: middle;\n",
       "    }\n",
       "\n",
       "    .dataframe tbody tr th {\n",
       "        vertical-align: top;\n",
       "    }\n",
       "\n",
       "    .dataframe thead th {\n",
       "        text-align: right;\n",
       "    }\n",
       "</style>\n",
       "<table border=\"1\" class=\"dataframe\">\n",
       "  <thead>\n",
       "    <tr style=\"text-align: right;\">\n",
       "      <th></th>\n",
       "      <th></th>\n",
       "      <th></th>\n",
       "      <th>week_start_date_pr1</th>\n",
       "      <th>ndvi_ne_pr1</th>\n",
       "      <th>ndvi_nw_pr1</th>\n",
       "      <th>ndvi_se_Pr1</th>\n",
       "      <th>ndvi_sw_pr1</th>\n",
       "      <th>precipitation_amt_mm_pr1</th>\n",
       "      <th>reanalysis_air_temp_k_pr1</th>\n",
       "      <th>reanalysis_avg_temp_k_pr1</th>\n",
       "      <th>reanalysis_dew_point_temp_k_pr1</th>\n",
       "      <th>reanalysis_max_air_temp_k_pr1</th>\n",
       "      <th>...</th>\n",
       "      <th>reanalysis_precip_amt_kg_per_m2_pr1</th>\n",
       "      <th>reanalysis_relative_humidity_percent_pr1</th>\n",
       "      <th>reanalysis_sat_precip_amt_mm_pr1</th>\n",
       "      <th>reanalysis_specific_humidity_g_per_kg_pr1</th>\n",
       "      <th>reanalysis_tdtr_k_pr1</th>\n",
       "      <th>station_avg_temp_c_pr1</th>\n",
       "      <th>station_diur_temp_rng_c_pr1</th>\n",
       "      <th>station_max_temp_c_pr1</th>\n",
       "      <th>station_min_temp_c_pr1</th>\n",
       "      <th>station_precip_mm_pr1</th>\n",
       "    </tr>\n",
       "    <tr>\n",
       "      <th>city</th>\n",
       "      <th>year</th>\n",
       "      <th>weekofyear</th>\n",
       "      <th></th>\n",
       "      <th></th>\n",
       "      <th></th>\n",
       "      <th></th>\n",
       "      <th></th>\n",
       "      <th></th>\n",
       "      <th></th>\n",
       "      <th></th>\n",
       "      <th></th>\n",
       "      <th></th>\n",
       "      <th></th>\n",
       "      <th></th>\n",
       "      <th></th>\n",
       "      <th></th>\n",
       "      <th></th>\n",
       "      <th></th>\n",
       "      <th></th>\n",
       "      <th></th>\n",
       "      <th></th>\n",
       "      <th></th>\n",
       "      <th></th>\n",
       "    </tr>\n",
       "  </thead>\n",
       "  <tbody>\n",
       "    <tr>\n",
       "      <th rowspan=\"5\" valign=\"top\">sj</th>\n",
       "      <th rowspan=\"5\" valign=\"top\">1990</th>\n",
       "      <th>18</th>\n",
       "      <td>NaN</td>\n",
       "      <td>NaN</td>\n",
       "      <td>NaN</td>\n",
       "      <td>NaN</td>\n",
       "      <td>NaN</td>\n",
       "      <td>NaN</td>\n",
       "      <td>NaN</td>\n",
       "      <td>NaN</td>\n",
       "      <td>NaN</td>\n",
       "      <td>NaN</td>\n",
       "      <td>...</td>\n",
       "      <td>NaN</td>\n",
       "      <td>NaN</td>\n",
       "      <td>NaN</td>\n",
       "      <td>NaN</td>\n",
       "      <td>NaN</td>\n",
       "      <td>NaN</td>\n",
       "      <td>NaN</td>\n",
       "      <td>NaN</td>\n",
       "      <td>NaN</td>\n",
       "      <td>NaN</td>\n",
       "    </tr>\n",
       "    <tr>\n",
       "      <th>19</th>\n",
       "      <td>1990-04-30</td>\n",
       "      <td>0.122600</td>\n",
       "      <td>0.103725</td>\n",
       "      <td>0.198483</td>\n",
       "      <td>0.177617</td>\n",
       "      <td>12.42</td>\n",
       "      <td>297.572857</td>\n",
       "      <td>297.742857</td>\n",
       "      <td>292.414286</td>\n",
       "      <td>299.8</td>\n",
       "      <td>...</td>\n",
       "      <td>32.00</td>\n",
       "      <td>73.365714</td>\n",
       "      <td>12.42</td>\n",
       "      <td>14.012857</td>\n",
       "      <td>2.628571</td>\n",
       "      <td>25.442857</td>\n",
       "      <td>6.900000</td>\n",
       "      <td>29.4</td>\n",
       "      <td>20.0</td>\n",
       "      <td>16.0</td>\n",
       "    </tr>\n",
       "    <tr>\n",
       "      <th>20</th>\n",
       "      <td>1990-05-07</td>\n",
       "      <td>0.169900</td>\n",
       "      <td>0.142175</td>\n",
       "      <td>0.162357</td>\n",
       "      <td>0.155486</td>\n",
       "      <td>22.82</td>\n",
       "      <td>298.211429</td>\n",
       "      <td>298.442857</td>\n",
       "      <td>293.951429</td>\n",
       "      <td>300.9</td>\n",
       "      <td>...</td>\n",
       "      <td>17.94</td>\n",
       "      <td>77.368571</td>\n",
       "      <td>22.82</td>\n",
       "      <td>15.372857</td>\n",
       "      <td>2.371429</td>\n",
       "      <td>26.714286</td>\n",
       "      <td>6.371429</td>\n",
       "      <td>31.7</td>\n",
       "      <td>22.2</td>\n",
       "      <td>8.6</td>\n",
       "    </tr>\n",
       "    <tr>\n",
       "      <th>21</th>\n",
       "      <td>1990-05-14</td>\n",
       "      <td>0.032250</td>\n",
       "      <td>0.172967</td>\n",
       "      <td>0.157200</td>\n",
       "      <td>0.170843</td>\n",
       "      <td>34.54</td>\n",
       "      <td>298.781429</td>\n",
       "      <td>298.878571</td>\n",
       "      <td>295.434286</td>\n",
       "      <td>300.5</td>\n",
       "      <td>...</td>\n",
       "      <td>26.10</td>\n",
       "      <td>82.052857</td>\n",
       "      <td>34.54</td>\n",
       "      <td>16.848571</td>\n",
       "      <td>2.300000</td>\n",
       "      <td>26.714286</td>\n",
       "      <td>6.485714</td>\n",
       "      <td>32.2</td>\n",
       "      <td>22.8</td>\n",
       "      <td>41.4</td>\n",
       "    </tr>\n",
       "    <tr>\n",
       "      <th>22</th>\n",
       "      <td>1990-05-21</td>\n",
       "      <td>0.128633</td>\n",
       "      <td>0.245067</td>\n",
       "      <td>0.227557</td>\n",
       "      <td>0.235886</td>\n",
       "      <td>15.36</td>\n",
       "      <td>298.987143</td>\n",
       "      <td>299.228571</td>\n",
       "      <td>295.310000</td>\n",
       "      <td>301.4</td>\n",
       "      <td>...</td>\n",
       "      <td>13.90</td>\n",
       "      <td>80.337143</td>\n",
       "      <td>15.36</td>\n",
       "      <td>16.672857</td>\n",
       "      <td>2.428571</td>\n",
       "      <td>27.471429</td>\n",
       "      <td>6.771429</td>\n",
       "      <td>33.3</td>\n",
       "      <td>23.3</td>\n",
       "      <td>4.0</td>\n",
       "    </tr>\n",
       "  </tbody>\n",
       "</table>\n",
       "<p>5 rows × 21 columns</p>\n",
       "</div>"
      ],
      "text/plain": [
       "                     week_start_date_pr1  ndvi_ne_pr1  ndvi_nw_pr1  \\\n",
       "city year weekofyear                                                 \n",
       "sj   1990 18                         NaN          NaN          NaN   \n",
       "          19                  1990-04-30     0.122600     0.103725   \n",
       "          20                  1990-05-07     0.169900     0.142175   \n",
       "          21                  1990-05-14     0.032250     0.172967   \n",
       "          22                  1990-05-21     0.128633     0.245067   \n",
       "\n",
       "                      ndvi_se_Pr1  ndvi_sw_pr1  precipitation_amt_mm_pr1  \\\n",
       "city year weekofyear                                                       \n",
       "sj   1990 18                  NaN          NaN                       NaN   \n",
       "          19             0.198483     0.177617                     12.42   \n",
       "          20             0.162357     0.155486                     22.82   \n",
       "          21             0.157200     0.170843                     34.54   \n",
       "          22             0.227557     0.235886                     15.36   \n",
       "\n",
       "                      reanalysis_air_temp_k_pr1  reanalysis_avg_temp_k_pr1  \\\n",
       "city year weekofyear                                                         \n",
       "sj   1990 18                                NaN                        NaN   \n",
       "          19                         297.572857                 297.742857   \n",
       "          20                         298.211429                 298.442857   \n",
       "          21                         298.781429                 298.878571   \n",
       "          22                         298.987143                 299.228571   \n",
       "\n",
       "                      reanalysis_dew_point_temp_k_pr1  \\\n",
       "city year weekofyear                                    \n",
       "sj   1990 18                                      NaN   \n",
       "          19                               292.414286   \n",
       "          20                               293.951429   \n",
       "          21                               295.434286   \n",
       "          22                               295.310000   \n",
       "\n",
       "                      reanalysis_max_air_temp_k_pr1  ...  \\\n",
       "city year weekofyear                                 ...   \n",
       "sj   1990 18                                    NaN  ...   \n",
       "          19                                  299.8  ...   \n",
       "          20                                  300.9  ...   \n",
       "          21                                  300.5  ...   \n",
       "          22                                  301.4  ...   \n",
       "\n",
       "                      reanalysis_precip_amt_kg_per_m2_pr1  \\\n",
       "city year weekofyear                                        \n",
       "sj   1990 18                                          NaN   \n",
       "          19                                        32.00   \n",
       "          20                                        17.94   \n",
       "          21                                        26.10   \n",
       "          22                                        13.90   \n",
       "\n",
       "                      reanalysis_relative_humidity_percent_pr1  \\\n",
       "city year weekofyear                                             \n",
       "sj   1990 18                                               NaN   \n",
       "          19                                         73.365714   \n",
       "          20                                         77.368571   \n",
       "          21                                         82.052857   \n",
       "          22                                         80.337143   \n",
       "\n",
       "                      reanalysis_sat_precip_amt_mm_pr1  \\\n",
       "city year weekofyear                                     \n",
       "sj   1990 18                                       NaN   \n",
       "          19                                     12.42   \n",
       "          20                                     22.82   \n",
       "          21                                     34.54   \n",
       "          22                                     15.36   \n",
       "\n",
       "                      reanalysis_specific_humidity_g_per_kg_pr1  \\\n",
       "city year weekofyear                                              \n",
       "sj   1990 18                                                NaN   \n",
       "          19                                          14.012857   \n",
       "          20                                          15.372857   \n",
       "          21                                          16.848571   \n",
       "          22                                          16.672857   \n",
       "\n",
       "                      reanalysis_tdtr_k_pr1  station_avg_temp_c_pr1  \\\n",
       "city year weekofyear                                                  \n",
       "sj   1990 18                            NaN                     NaN   \n",
       "          19                       2.628571               25.442857   \n",
       "          20                       2.371429               26.714286   \n",
       "          21                       2.300000               26.714286   \n",
       "          22                       2.428571               27.471429   \n",
       "\n",
       "                      station_diur_temp_rng_c_pr1  station_max_temp_c_pr1  \\\n",
       "city year weekofyear                                                        \n",
       "sj   1990 18                                  NaN                     NaN   \n",
       "          19                             6.900000                    29.4   \n",
       "          20                             6.371429                    31.7   \n",
       "          21                             6.485714                    32.2   \n",
       "          22                             6.771429                    33.3   \n",
       "\n",
       "                      station_min_temp_c_pr1  station_precip_mm_pr1  \n",
       "city year weekofyear                                                 \n",
       "sj   1990 18                             NaN                    NaN  \n",
       "          19                            20.0                   16.0  \n",
       "          20                            22.2                    8.6  \n",
       "          21                            22.8                   41.4  \n",
       "          22                            23.3                    4.0  \n",
       "\n",
       "[5 rows x 21 columns]"
      ]
     },
     "execution_count": 6,
     "metadata": {},
     "output_type": "execute_result"
    }
   ],
   "source": [
    "train_features_shifted1.head()"
   ]
  },
  {
   "cell_type": "code",
   "execution_count": 7,
   "metadata": {},
   "outputs": [],
   "source": [
    "train_features_shifted2 = train_features_shifted2.rename(columns={'week_start_date':'week_start_date_pr2',\n",
    " 'ndvi_ne':'ndvi_ne_pr2',\n",
    " 'ndvi_nw':'ndvi_nw_pr2',\n",
    " 'ndvi_se':'ndvi_se_Pr2',\n",
    " 'ndvi_sw':'ndvi_sw_pr2',\n",
    " 'precipitation_amt_mm':'precipitation_amt_mm_pr2',\n",
    " 'reanalysis_air_temp_k':'reanalysis_air_temp_k_pr2',\n",
    " 'reanalysis_avg_temp_k':'reanalysis_avg_temp_k_pr2',\n",
    " 'reanalysis_dew_point_temp_k':'reanalysis_dew_point_temp_k_pr2',\n",
    " 'reanalysis_max_air_temp_k':'reanalysis_max_air_temp_k_pr2',\n",
    " 'reanalysis_min_air_temp_k':'reanalysis_min_air_temp_k_pr2',\n",
    " 'reanalysis_precip_amt_kg_per_m2':'reanalysis_precip_amt_kg_per_m2_pr2',\n",
    " 'reanalysis_relative_humidity_percent':'reanalysis_relative_humidity_percent_pr2',\n",
    " 'reanalysis_sat_precip_amt_mm':'reanalysis_sat_precip_amt_mm_pr2',\n",
    " 'reanalysis_specific_humidity_g_per_kg':'reanalysis_specific_humidity_g_per_kg_pr2',\n",
    " 'reanalysis_tdtr_k':'reanalysis_tdtr_k_pr2',\n",
    " 'station_avg_temp_c':'station_avg_temp_c_pr2',\n",
    " 'station_diur_temp_rng_c':'station_diur_temp_rng_c_pr2',\n",
    " 'station_max_temp_c':'station_max_temp_c_pr2',\n",
    " 'station_min_temp_c':'station_min_temp_c_pr2',\n",
    " 'station_precip_mm':'station_precip_mm_pr2'})"
   ]
  },
  {
   "cell_type": "code",
   "execution_count": 8,
   "metadata": {},
   "outputs": [
    {
     "data": {
      "text/html": [
       "<div>\n",
       "<style scoped>\n",
       "    .dataframe tbody tr th:only-of-type {\n",
       "        vertical-align: middle;\n",
       "    }\n",
       "\n",
       "    .dataframe tbody tr th {\n",
       "        vertical-align: top;\n",
       "    }\n",
       "\n",
       "    .dataframe thead th {\n",
       "        text-align: right;\n",
       "    }\n",
       "</style>\n",
       "<table border=\"1\" class=\"dataframe\">\n",
       "  <thead>\n",
       "    <tr style=\"text-align: right;\">\n",
       "      <th></th>\n",
       "      <th></th>\n",
       "      <th></th>\n",
       "      <th>week_start_date_pr2</th>\n",
       "      <th>ndvi_ne_pr2</th>\n",
       "      <th>ndvi_nw_pr2</th>\n",
       "      <th>ndvi_se_Pr2</th>\n",
       "      <th>ndvi_sw_pr2</th>\n",
       "      <th>precipitation_amt_mm_pr2</th>\n",
       "      <th>reanalysis_air_temp_k_pr2</th>\n",
       "      <th>reanalysis_avg_temp_k_pr2</th>\n",
       "      <th>reanalysis_dew_point_temp_k_pr2</th>\n",
       "      <th>reanalysis_max_air_temp_k_pr2</th>\n",
       "      <th>...</th>\n",
       "      <th>reanalysis_precip_amt_kg_per_m2_pr2</th>\n",
       "      <th>reanalysis_relative_humidity_percent_pr2</th>\n",
       "      <th>reanalysis_sat_precip_amt_mm_pr2</th>\n",
       "      <th>reanalysis_specific_humidity_g_per_kg_pr2</th>\n",
       "      <th>reanalysis_tdtr_k_pr2</th>\n",
       "      <th>station_avg_temp_c_pr2</th>\n",
       "      <th>station_diur_temp_rng_c_pr2</th>\n",
       "      <th>station_max_temp_c_pr2</th>\n",
       "      <th>station_min_temp_c_pr2</th>\n",
       "      <th>station_precip_mm_pr2</th>\n",
       "    </tr>\n",
       "    <tr>\n",
       "      <th>city</th>\n",
       "      <th>year</th>\n",
       "      <th>weekofyear</th>\n",
       "      <th></th>\n",
       "      <th></th>\n",
       "      <th></th>\n",
       "      <th></th>\n",
       "      <th></th>\n",
       "      <th></th>\n",
       "      <th></th>\n",
       "      <th></th>\n",
       "      <th></th>\n",
       "      <th></th>\n",
       "      <th></th>\n",
       "      <th></th>\n",
       "      <th></th>\n",
       "      <th></th>\n",
       "      <th></th>\n",
       "      <th></th>\n",
       "      <th></th>\n",
       "      <th></th>\n",
       "      <th></th>\n",
       "      <th></th>\n",
       "      <th></th>\n",
       "    </tr>\n",
       "  </thead>\n",
       "  <tbody>\n",
       "    <tr>\n",
       "      <th rowspan=\"5\" valign=\"top\">sj</th>\n",
       "      <th rowspan=\"5\" valign=\"top\">1990</th>\n",
       "      <th>18</th>\n",
       "      <td>NaN</td>\n",
       "      <td>NaN</td>\n",
       "      <td>NaN</td>\n",
       "      <td>NaN</td>\n",
       "      <td>NaN</td>\n",
       "      <td>NaN</td>\n",
       "      <td>NaN</td>\n",
       "      <td>NaN</td>\n",
       "      <td>NaN</td>\n",
       "      <td>NaN</td>\n",
       "      <td>...</td>\n",
       "      <td>NaN</td>\n",
       "      <td>NaN</td>\n",
       "      <td>NaN</td>\n",
       "      <td>NaN</td>\n",
       "      <td>NaN</td>\n",
       "      <td>NaN</td>\n",
       "      <td>NaN</td>\n",
       "      <td>NaN</td>\n",
       "      <td>NaN</td>\n",
       "      <td>NaN</td>\n",
       "    </tr>\n",
       "    <tr>\n",
       "      <th>19</th>\n",
       "      <td>NaN</td>\n",
       "      <td>NaN</td>\n",
       "      <td>NaN</td>\n",
       "      <td>NaN</td>\n",
       "      <td>NaN</td>\n",
       "      <td>NaN</td>\n",
       "      <td>NaN</td>\n",
       "      <td>NaN</td>\n",
       "      <td>NaN</td>\n",
       "      <td>NaN</td>\n",
       "      <td>...</td>\n",
       "      <td>NaN</td>\n",
       "      <td>NaN</td>\n",
       "      <td>NaN</td>\n",
       "      <td>NaN</td>\n",
       "      <td>NaN</td>\n",
       "      <td>NaN</td>\n",
       "      <td>NaN</td>\n",
       "      <td>NaN</td>\n",
       "      <td>NaN</td>\n",
       "      <td>NaN</td>\n",
       "    </tr>\n",
       "    <tr>\n",
       "      <th>20</th>\n",
       "      <td>1990-04-30</td>\n",
       "      <td>0.12260</td>\n",
       "      <td>0.103725</td>\n",
       "      <td>0.198483</td>\n",
       "      <td>0.177617</td>\n",
       "      <td>12.42</td>\n",
       "      <td>297.572857</td>\n",
       "      <td>297.742857</td>\n",
       "      <td>292.414286</td>\n",
       "      <td>299.8</td>\n",
       "      <td>...</td>\n",
       "      <td>32.00</td>\n",
       "      <td>73.365714</td>\n",
       "      <td>12.42</td>\n",
       "      <td>14.012857</td>\n",
       "      <td>2.628571</td>\n",
       "      <td>25.442857</td>\n",
       "      <td>6.900000</td>\n",
       "      <td>29.4</td>\n",
       "      <td>20.0</td>\n",
       "      <td>16.0</td>\n",
       "    </tr>\n",
       "    <tr>\n",
       "      <th>21</th>\n",
       "      <td>1990-05-07</td>\n",
       "      <td>0.16990</td>\n",
       "      <td>0.142175</td>\n",
       "      <td>0.162357</td>\n",
       "      <td>0.155486</td>\n",
       "      <td>22.82</td>\n",
       "      <td>298.211429</td>\n",
       "      <td>298.442857</td>\n",
       "      <td>293.951429</td>\n",
       "      <td>300.9</td>\n",
       "      <td>...</td>\n",
       "      <td>17.94</td>\n",
       "      <td>77.368571</td>\n",
       "      <td>22.82</td>\n",
       "      <td>15.372857</td>\n",
       "      <td>2.371429</td>\n",
       "      <td>26.714286</td>\n",
       "      <td>6.371429</td>\n",
       "      <td>31.7</td>\n",
       "      <td>22.2</td>\n",
       "      <td>8.6</td>\n",
       "    </tr>\n",
       "    <tr>\n",
       "      <th>22</th>\n",
       "      <td>1990-05-14</td>\n",
       "      <td>0.03225</td>\n",
       "      <td>0.172967</td>\n",
       "      <td>0.157200</td>\n",
       "      <td>0.170843</td>\n",
       "      <td>34.54</td>\n",
       "      <td>298.781429</td>\n",
       "      <td>298.878571</td>\n",
       "      <td>295.434286</td>\n",
       "      <td>300.5</td>\n",
       "      <td>...</td>\n",
       "      <td>26.10</td>\n",
       "      <td>82.052857</td>\n",
       "      <td>34.54</td>\n",
       "      <td>16.848571</td>\n",
       "      <td>2.300000</td>\n",
       "      <td>26.714286</td>\n",
       "      <td>6.485714</td>\n",
       "      <td>32.2</td>\n",
       "      <td>22.8</td>\n",
       "      <td>41.4</td>\n",
       "    </tr>\n",
       "  </tbody>\n",
       "</table>\n",
       "<p>5 rows × 21 columns</p>\n",
       "</div>"
      ],
      "text/plain": [
       "                     week_start_date_pr2  ndvi_ne_pr2  ndvi_nw_pr2  \\\n",
       "city year weekofyear                                                 \n",
       "sj   1990 18                         NaN          NaN          NaN   \n",
       "          19                         NaN          NaN          NaN   \n",
       "          20                  1990-04-30      0.12260     0.103725   \n",
       "          21                  1990-05-07      0.16990     0.142175   \n",
       "          22                  1990-05-14      0.03225     0.172967   \n",
       "\n",
       "                      ndvi_se_Pr2  ndvi_sw_pr2  precipitation_amt_mm_pr2  \\\n",
       "city year weekofyear                                                       \n",
       "sj   1990 18                  NaN          NaN                       NaN   \n",
       "          19                  NaN          NaN                       NaN   \n",
       "          20             0.198483     0.177617                     12.42   \n",
       "          21             0.162357     0.155486                     22.82   \n",
       "          22             0.157200     0.170843                     34.54   \n",
       "\n",
       "                      reanalysis_air_temp_k_pr2  reanalysis_avg_temp_k_pr2  \\\n",
       "city year weekofyear                                                         \n",
       "sj   1990 18                                NaN                        NaN   \n",
       "          19                                NaN                        NaN   \n",
       "          20                         297.572857                 297.742857   \n",
       "          21                         298.211429                 298.442857   \n",
       "          22                         298.781429                 298.878571   \n",
       "\n",
       "                      reanalysis_dew_point_temp_k_pr2  \\\n",
       "city year weekofyear                                    \n",
       "sj   1990 18                                      NaN   \n",
       "          19                                      NaN   \n",
       "          20                               292.414286   \n",
       "          21                               293.951429   \n",
       "          22                               295.434286   \n",
       "\n",
       "                      reanalysis_max_air_temp_k_pr2  ...  \\\n",
       "city year weekofyear                                 ...   \n",
       "sj   1990 18                                    NaN  ...   \n",
       "          19                                    NaN  ...   \n",
       "          20                                  299.8  ...   \n",
       "          21                                  300.9  ...   \n",
       "          22                                  300.5  ...   \n",
       "\n",
       "                      reanalysis_precip_amt_kg_per_m2_pr2  \\\n",
       "city year weekofyear                                        \n",
       "sj   1990 18                                          NaN   \n",
       "          19                                          NaN   \n",
       "          20                                        32.00   \n",
       "          21                                        17.94   \n",
       "          22                                        26.10   \n",
       "\n",
       "                      reanalysis_relative_humidity_percent_pr2  \\\n",
       "city year weekofyear                                             \n",
       "sj   1990 18                                               NaN   \n",
       "          19                                               NaN   \n",
       "          20                                         73.365714   \n",
       "          21                                         77.368571   \n",
       "          22                                         82.052857   \n",
       "\n",
       "                      reanalysis_sat_precip_amt_mm_pr2  \\\n",
       "city year weekofyear                                     \n",
       "sj   1990 18                                       NaN   \n",
       "          19                                       NaN   \n",
       "          20                                     12.42   \n",
       "          21                                     22.82   \n",
       "          22                                     34.54   \n",
       "\n",
       "                      reanalysis_specific_humidity_g_per_kg_pr2  \\\n",
       "city year weekofyear                                              \n",
       "sj   1990 18                                                NaN   \n",
       "          19                                                NaN   \n",
       "          20                                          14.012857   \n",
       "          21                                          15.372857   \n",
       "          22                                          16.848571   \n",
       "\n",
       "                      reanalysis_tdtr_k_pr2  station_avg_temp_c_pr2  \\\n",
       "city year weekofyear                                                  \n",
       "sj   1990 18                            NaN                     NaN   \n",
       "          19                            NaN                     NaN   \n",
       "          20                       2.628571               25.442857   \n",
       "          21                       2.371429               26.714286   \n",
       "          22                       2.300000               26.714286   \n",
       "\n",
       "                      station_diur_temp_rng_c_pr2  station_max_temp_c_pr2  \\\n",
       "city year weekofyear                                                        \n",
       "sj   1990 18                                  NaN                     NaN   \n",
       "          19                                  NaN                     NaN   \n",
       "          20                             6.900000                    29.4   \n",
       "          21                             6.371429                    31.7   \n",
       "          22                             6.485714                    32.2   \n",
       "\n",
       "                      station_min_temp_c_pr2  station_precip_mm_pr2  \n",
       "city year weekofyear                                                 \n",
       "sj   1990 18                             NaN                    NaN  \n",
       "          19                             NaN                    NaN  \n",
       "          20                            20.0                   16.0  \n",
       "          21                            22.2                    8.6  \n",
       "          22                            22.8                   41.4  \n",
       "\n",
       "[5 rows x 21 columns]"
      ]
     },
     "execution_count": 8,
     "metadata": {},
     "output_type": "execute_result"
    }
   ],
   "source": [
    "train_features_shifted2.head()"
   ]
  },
  {
   "cell_type": "code",
   "execution_count": 9,
   "metadata": {},
   "outputs": [],
   "source": [
    "df_cd = pd.merge(train_features_shifted1, train_features_shifted2, how='inner',on =['city','year','weekofyear' ])"
   ]
  },
  {
   "cell_type": "code",
   "execution_count": 10,
   "metadata": {
    "collapsed": true
   },
   "outputs": [],
   "source": [
    "shifted_dataset_full = pd.merge(df_cd, train_features, how='inner',on =['city','year','weekofyear' ])"
   ]
  },
  {
   "cell_type": "code",
   "execution_count": 11,
   "metadata": {},
   "outputs": [
    {
     "data": {
      "text/plain": [
       "(1456, 63)"
      ]
     },
     "execution_count": 11,
     "metadata": {},
     "output_type": "execute_result"
    }
   ],
   "source": [
    "shifted_dataset_full.shape"
   ]
  },
  {
   "cell_type": "code",
   "execution_count": 12,
   "metadata": {
    "collapsed": true
   },
   "outputs": [],
   "source": [
    "# Seperate data for San Juan\n",
    "sj_train_features = train_features.loc['sj']\n",
    "sj_train_labels = train_labels.loc['sj']\n",
    "\n",
    "# Separate data for Iquitos\n",
    "iq_train_features = train_features.loc['iq']\n",
    "iq_train_labels = train_labels.loc['iq']"
   ]
  },
  {
   "cell_type": "code",
   "execution_count": 13,
   "metadata": {},
   "outputs": [],
   "source": [
    "# Remove `week_start_date` string.\n",
    "sj_train_features.drop('week_start_date', axis=1, inplace=True)\n",
    "iq_train_features.drop('week_start_date', axis=1, inplace=True)\n"
   ]
  },
  {
   "cell_type": "code",
   "execution_count": 14,
   "metadata": {
    "collapsed": true
   },
   "outputs": [],
   "source": [
    "# Seperate data for San Juan\n",
    "#sj_train_features = shifted_dataset_full.loc['sj']\n",
    "#sj_train_labels = train_labels.loc['sj']\n",
    "\n",
    "# Separate data for Iquitos\n",
    "#iq_train_features = shifted_dataset_full.loc['iq']\n",
    "#iq_train_labels = train_labels.loc['iq']\n"
   ]
  },
  {
   "cell_type": "code",
   "execution_count": 15,
   "metadata": {},
   "outputs": [],
   "source": [
    "# Remove `week_start_date` string.\n",
    "#sj_train_features.drop('week_start_date', axis=1, inplace=True)\n",
    "#iq_train_features.drop('week_start_date', axis=1, inplace=True)\n",
    "#sj_train_features.drop('week_start_date_pr1', axis=1, inplace=True)\n",
    "#iq_train_features.drop('week_start_date_pr1', axis=1, inplace=True)\n",
    "#sj_train_features.drop('week_start_date_pr2', axis=1, inplace=True)\n",
    "#iq_train_features.drop('week_start_date_pr2', axis=1, inplace=True)\n",
    "\n"
   ]
  },
  {
   "cell_type": "code",
   "execution_count": 16,
   "metadata": {
    "collapsed": true
   },
   "outputs": [],
   "source": [
    "sj_train_features.fillna(sj_train_features.mean(), inplace=True)\n",
    "iq_train_features.fillna(iq_train_features.mean(), inplace=True)"
   ]
  },
  {
   "cell_type": "code",
   "execution_count": 17,
   "metadata": {
    "collapsed": true
   },
   "outputs": [],
   "source": [
    "sj_train_features['total_cases'] = sj_train_labels.total_cases\n",
    "iq_train_features['total_cases'] = iq_train_labels.total_cases"
   ]
  },
  {
   "cell_type": "code",
   "execution_count": 18,
   "metadata": {},
   "outputs": [],
   "source": [
    "# compute the correlations\n",
    "sj_correlations = sj_train_features.corr()\n",
    "iq_correlations = iq_train_features.corr()"
   ]
  },
  {
   "cell_type": "code",
   "execution_count": 19,
   "metadata": {},
   "outputs": [
    {
     "data": {
      "text/plain": [
       "<matplotlib.axes._subplots.AxesSubplot at 0x7f7594ad94e0>"
      ]
     },
     "execution_count": 19,
     "metadata": {},
     "output_type": "execute_result"
    },
    {
     "data": {
      "image/png": "[encoded data removed]",
      "text/plain": [
       "<Figure size 432x288 with 1 Axes>"
      ]
     },
     "metadata": {
      "needs_background": "light"
     },
     "output_type": "display_data"
    }
   ],
   "source": [
    "# San Juan\n",
    "(sj_correlations\n",
    "     .total_cases\n",
    "     .drop('total_cases') # don't compare with myself\n",
    "     .sort_values(ascending=False)\n",
    "     .plot\n",
    "     .barh())"
   ]
  },
  {
   "cell_type": "code",
   "execution_count": 20,
   "metadata": {
    "scrolled": true
   },
   "outputs": [
    {
     "data": {
      "text/plain": [
       "ndvi_nw                                  0.049225\n",
       "ndvi_se                                  0.000752\n",
       "ndvi_sw                                 -0.000225\n",
       "precipitation_amt_mm                     0.060142\n",
       "reanalysis_air_temp_k                    0.181745\n",
       "reanalysis_avg_temp_k                    0.175102\n",
       "reanalysis_dew_point_temp_k              0.203581\n",
       "reanalysis_max_air_temp_k                0.194348\n",
       "reanalysis_min_air_temp_k                0.187765\n",
       "reanalysis_precip_amt_kg_per_m2          0.107356\n",
       "reanalysis_relative_humidity_percent     0.143908\n",
       "reanalysis_sat_precip_amt_mm             0.060142\n",
       "reanalysis_specific_humidity_g_per_kg    0.207751\n",
       "reanalysis_tdtr_k                       -0.067536\n",
       "station_avg_temp_c                       0.196430\n",
       "station_diur_temp_rng_c                  0.034597\n",
       "station_max_temp_c                       0.189721\n",
       "station_min_temp_c                       0.176844\n",
       "station_precip_mm                        0.051710\n",
       "total_cases                              1.000000\n",
       "Name: total_cases, dtype: float64"
      ]
     },
     "execution_count": 20,
     "metadata": {},
     "output_type": "execute_result"
    }
   ],
   "source": [
    "sj_train_features[sj_train_features.columns[1:]].corr()['total_cases'][:]"
   ]
  },
  {
   "cell_type": "code",
   "execution_count": 21,
   "metadata": {},
   "outputs": [
    {
     "data": {
      "text/plain": [
       "ndvi_nw                                 -0.009579\n",
       "ndvi_se                                 -0.041040\n",
       "ndvi_sw                                  0.032978\n",
       "precipitation_amt_mm                     0.090084\n",
       "reanalysis_air_temp_k                    0.097004\n",
       "reanalysis_avg_temp_k                    0.079795\n",
       "reanalysis_dew_point_temp_k              0.230180\n",
       "reanalysis_max_air_temp_k               -0.056419\n",
       "reanalysis_min_air_temp_k                0.214308\n",
       "reanalysis_precip_amt_kg_per_m2          0.101074\n",
       "reanalysis_relative_humidity_percent     0.129958\n",
       "reanalysis_sat_precip_amt_mm             0.090084\n",
       "reanalysis_specific_humidity_g_per_kg    0.236249\n",
       "reanalysis_tdtr_k                       -0.134295\n",
       "station_avg_temp_c                       0.096148\n",
       "station_diur_temp_rng_c                 -0.049515\n",
       "station_max_temp_c                       0.067178\n",
       "station_min_temp_c                       0.189304\n",
       "station_precip_mm                        0.042621\n",
       "total_cases                              1.000000\n",
       "Name: total_cases, dtype: float64"
      ]
     },
     "execution_count": 21,
     "metadata": {},
     "output_type": "execute_result"
    }
   ],
   "source": [
    "iq_train_features[iq_train_features.columns[1:]].corr()['total_cases'][:]"
   ]
  },
  {
   "cell_type": "code",
   "execution_count": 22,
   "metadata": {
    "collapsed": true
   },
   "outputs": [],
   "source": [
    "def preprocess_data_iq(data_path, labels_path=None):\n",
    "    # load data and set index to city, year, weekofyear\n",
    "    df = data_path\n",
    "    \n",
    "    # select features we want\n",
    "    features = ['reanalysis_dew_point_temp_k',\n",
    "                'reanalysis_min_air_temp_k',\n",
    "                'reanalysis_precip_amt_kg_per_m2',\n",
    "                'reanalysis_relative_humidity_percent',\n",
    "                'reanalysis_specific_humidity_g_per_kg',\n",
    "                'reanalysis_tdtr_k',\n",
    "                'station_min_temp_c',\n",
    "                \n",
    "                'reanalysis_dew_point_temp_k_pr1',\n",
    "                'reanalysis_min_air_temp_k_pr1',\n",
    "                'reanalysis_precip_amt_kg_per_m2_pr1',\n",
    "                'reanalysis_relative_humidity_percent_pr1',\n",
    "                'reanalysis_specific_humidity_g_per_kg_pr1',\n",
    "                'reanalysis_tdtr_k_pr1',\n",
    "                'station_min_temp_c_pr1',\n",
    "                \n",
    "                'reanalysis_dew_point_temp_k_pr2',\n",
    "                'reanalysis_min_air_temp_k_pr2',\n",
    "                'reanalysis_precip_amt_kg_per_m2_pr2',\n",
    "                'reanalysis_relative_humidity_percent_pr2',\n",
    "                'reanalysis_specific_humidity_g_per_kg_pr2',\n",
    "                'reanalysis_tdtr_k_pr2',\n",
    "                'station_min_temp_c_pr2'\n",
    "                \n",
    "             ]\n",
    "    df = df[features]\n",
    "    \n",
    "    # fill missing values\n",
    "    df.fillna(df.mean(), inplace=True)\n",
    "\n",
    "    # add labels to dataframe\n",
    "    if labels_path:\n",
    "        labels = pd.read_csv(labels_path, index_col=[0, 1, 2])\n",
    "        df = df.join(labels)\n",
    "    \n",
    "    # separate saoin juan and iquitos\n",
    "    iq = df.loc['iq']\n",
    "   # iq = df.loc['iq']\n",
    "    \n",
    "    return iq"
   ]
  },
  {
   "cell_type": "code",
   "execution_count": 23,
   "metadata": {
    "collapsed": true
   },
   "outputs": [],
   "source": [
    "def preprocess_data_sj(data_path, labels_path=None):\n",
    "    # load data and set index to city, year, weekofyear\n",
    "    df = data_path\n",
    "    \n",
    "    # select features we want\n",
    "    features = ['reanalysis_air_temp_k',\n",
    "                'reanalysis_avg_temp_k',\n",
    "                'reanalysis_dew_point_temp_k',\n",
    "                'reanalysis_max_air_temp_k',\n",
    "                'reanalysis_min_air_temp_k',\n",
    "                'reanalysis_precip_amt_kg_per_m2',\n",
    "                'reanalysis_relative_humidity_percent',\n",
    "                'reanalysis_specific_humidity_g_per_kg',\n",
    "                'station_avg_temp_c',\n",
    "                'station_max_temp_c',\n",
    "                'station_min_temp_c',\n",
    "                'reanalysis_air_temp_k_pr1',\n",
    "                'reanalysis_avg_temp_k_pr1',\n",
    "                'reanalysis_dew_point_temp_k_pr1',\n",
    "                'reanalysis_max_air_temp_k_pr1',\n",
    "                'reanalysis_min_air_temp_k_pr1',\n",
    "                'reanalysis_precip_amt_kg_per_m2_pr1',\n",
    "                'reanalysis_relative_humidity_percent_pr1',\n",
    "                'reanalysis_specific_humidity_g_per_kg_pr1',\n",
    "                'station_avg_temp_c_pr1',\n",
    "                'station_max_temp_c_pr1',\n",
    "                'station_min_temp_c_pr1',\n",
    "                'reanalysis_air_temp_k_pr2',\n",
    "                'reanalysis_avg_temp_k_pr2',\n",
    "                'reanalysis_dew_point_temp_k_pr2',\n",
    "                'reanalysis_max_air_temp_k_pr2',\n",
    "                'reanalysis_min_air_temp_k_pr2',\n",
    "                'reanalysis_precip_amt_kg_per_m2_pr2',\n",
    "                'reanalysis_relative_humidity_percent_pr2',\n",
    "                'reanalysis_specific_humidity_g_per_kg_pr2',\n",
    "                'station_avg_temp_c_pr2',\n",
    "                'station_max_temp_c_pr2',\n",
    "                'station_min_temp_c_pr2'\n",
    "             ]\n",
    "    df = df[features]\n",
    "    \n",
    "    # fill missing values\n",
    "    df.fillna(df.mean(), inplace=True)\n",
    "\n",
    "    # add labels to dataframe\n",
    "    if labels_path:\n",
    "        labels = pd.read_csv(labels_path, index_col=[0, 1, 2])\n",
    "        df = df.join(labels)\n",
    "    \n",
    "    # separate saoin juan and iquitos\n",
    "    sj = df.loc['sj']\n",
    "   # iq = df.loc['iq']\n",
    "    \n",
    "    return sj"
   ]
  },
  {
   "cell_type": "code",
   "execution_count": 24,
   "metadata": {},
   "outputs": [],
   "source": [
    "sj_train = preprocess_data_sj(shifted_dataset_full,\n",
    "                                    labels_path=\"data-processed/dengue_labels_train.csv\")\n",
    "iq_train = preprocess_data_iq(shifted_dataset_full,\n",
    "                                    labels_path=\"data-processed/dengue_labels_train.csv\")"
   ]
  },
  {
   "cell_type": "code",
   "execution_count": 25,
   "metadata": {
    "collapsed": true
   },
   "outputs": [],
   "source": [
    "sj_train_subtrain = sj_train.head(800)\n",
    "sj_train_subtest = sj_train.tail(sj_train.shape[0] - 800)\n",
    "\n",
    "iq_train_subtrain = iq_train.head(400)\n",
    "iq_train_subtest = iq_train.tail(iq_train.shape[0] - 400)"
   ]
  },
  {
   "cell_type": "code",
   "execution_count": 26,
   "metadata": {},
   "outputs": [
    {
     "data": {
      "text/plain": [
       "(936, 34)"
      ]
     },
     "execution_count": 26,
     "metadata": {},
     "output_type": "execute_result"
    }
   ],
   "source": [
    "sj_train.shape"
   ]
  },
  {
   "cell_type": "code",
   "execution_count": 27,
   "metadata": {},
   "outputs": [
    {
     "data": {
      "text/plain": [
       "(520, 22)"
      ]
     },
     "execution_count": 27,
     "metadata": {},
     "output_type": "execute_result"
    }
   ],
   "source": [
    "iq_train.shape"
   ]
  },
  {
   "cell_type": "code",
   "execution_count": 28,
   "metadata": {},
   "outputs": [
    {
     "name": "stdout",
     "output_type": "stream",
     "text": [
      "best alpha =  0.0001\n",
      "best score =  21.941176470588236\n"
     ]
    },
    {
     "name": "stderr",
     "output_type": "stream",
     "text": [
      "No handles with labels found to put in legend.\n"
     ]
    },
    {
     "data": {
      "text/plain": [
       "<matplotlib.legend.Legend at 0x7f7594687cf8>"
      ]
     },
     "execution_count": 28,
     "metadata": {},
     "output_type": "execute_result"
    },
    {
     "data": {
      "image/png": "[encoded data removed]",
      "text/plain": [
       "<Figure size 432x288 with 2 Axes>"
      ]
     },
     "metadata": {
      "needs_background": "light"
     },
     "output_type": "display_data"
    }
   ],
   "source": [
    "from statsmodels.tools import eval_measures\n",
    "import statsmodels.formula.api as smf\n",
    "\n",
    "def get_best_model_sj(train, test):\n",
    "    # Step 1: specify the form of the model\n",
    "    model_formula = \"total_cases ~ 1 + \" \\\n",
    "    \"reanalysis_air_temp_k + \" \\\n",
    "                \"reanalysis_avg_temp_k + \" \\\n",
    "                \"reanalysis_dew_point_temp_k + \" \\\n",
    "                \"reanalysis_max_air_temp_k+\"\\\n",
    "                \"reanalysis_min_air_temp_k + \" \\\n",
    "                \"reanalysis_precip_amt_kg_per_m2 + \" \\\n",
    "                \"reanalysis_relative_humidity_percent + \" \\\n",
    "                \"reanalysis_specific_humidity_g_per_kg + \" \\\n",
    "                \"station_avg_temp_c + \" \\\n",
    "                \"station_max_temp_c + \" \\\n",
    "                \"station_min_temp_c + \" \\\n",
    "                \"reanalysis_air_temp_k_pr1 + \" \\\n",
    "                \"reanalysis_avg_temp_k_pr1 + \" \\\n",
    "                \"reanalysis_dew_point_temp_k_pr1 + \" \\\n",
    "                \"reanalysis_max_air_temp_k_pr1 + \" \\\n",
    "                \"reanalysis_min_air_temp_k_pr1 + \" \\\n",
    "                \"reanalysis_precip_amt_kg_per_m2_pr1 + \" \\\n",
    "                \"reanalysis_relative_humidity_percent_pr1 + \" \\\n",
    "                \"reanalysis_specific_humidity_g_per_kg_pr1 + \" \\\n",
    "                \"station_avg_temp_c_pr1 + \" \\\n",
    "                \"station_max_temp_c_pr1 + \" \\\n",
    "                \"station_min_temp_c_pr1 + \" \\\n",
    "                \"reanalysis_air_temp_k_pr2 + \" \\\n",
    "                \"reanalysis_avg_temp_k_pr2 + \" \\\n",
    "                \"reanalysis_dew_point_temp_k_pr2 + \" \\\n",
    "                \"reanalysis_max_air_temp_k_pr2 + \" \\\n",
    "                \"reanalysis_min_air_temp_k_pr2 + \" \\\n",
    "                \"reanalysis_precip_amt_kg_per_m2_pr2 + \" \\\n",
    "                \"reanalysis_relative_humidity_percent_pr2 + \" \\\n",
    "                \"reanalysis_specific_humidity_g_per_kg_pr2 + \" \\\n",
    "                \"station_avg_temp_c_pr2 + \" \\\n",
    "                \"station_max_temp_c_pr2 + \" \\\n",
    "                \"station_min_temp_c_pr2\"\n",
    "    \n",
    "    grid = 10 ** np.arange(-8, -3, dtype=np.float64)\n",
    "                    \n",
    "    best_alpha = []\n",
    "    best_score = 1000\n",
    "        \n",
    "    # Step 2: Find the best hyper parameter, alpha\n",
    "    for alpha in grid:\n",
    "        model = smf.glm(formula=model_formula,\n",
    "                        data=train,\n",
    "                        family=sm.families.NegativeBinomial(alpha=alpha))\n",
    "\n",
    "        results = model.fit()\n",
    "        predictions = results.predict(test).astype(int)\n",
    "        score = eval_measures.meanabs(predictions, test.total_cases)\n",
    "\n",
    "        if score < best_score:\n",
    "            best_alpha = alpha\n",
    "            best_score = score\n",
    "\n",
    "    print('best alpha = ', best_alpha)\n",
    "    print('best score = ', best_score)\n",
    "            \n",
    "    # Step 3: refit on entire dataset\n",
    "    full_dataset = pd.concat([train, test])\n",
    "    model = smf.glm(formula=model_formula,\n",
    "                    data=full_dataset,\n",
    "                    family=sm.families.NegativeBinomial(alpha=best_alpha))\n",
    "\n",
    "    fitted_model = model.fit()\n",
    "    return fitted_model\n",
    "    \n",
    "sj_best_model = get_best_model_sj(sj_train_subtrain, sj_train_subtest)\n",
    "#iq_best_model = get_best_model_sj(iq_train_subtrain, iq_train_subtest)\n",
    "\n",
    "figs, axes = plt.subplots(nrows=2, ncols=1)\n",
    "\n",
    "# plot sj\n",
    "sj_train['fitted'] = sj_best_model.fittedvalues\n",
    "sj_train.fitted.plot(ax=axes[0], label=\"Predictions\")\n",
    "sj_train.total_cases.plot(ax=axes[0], label=\"Actual\")\n",
    "\n",
    "# plot iq\n",
    "#iq_train['fitted'] = iq_best_model.fittedvalues\n",
    "#iq_train.fitted.plot(ax=axes[1], label=\"Predictions\")\n",
    "#iq_train.total_cases.plot(ax=axes[1], label=\"Actual\")\n",
    "\n",
    "plt.suptitle(\"Dengue Predicted Cases vs. Actual Cases\")\n",
    "plt.legend()"
   ]
  },
  {
   "cell_type": "code",
   "execution_count": 31,
   "metadata": {},
   "outputs": [
    {
     "name": "stdout",
     "output_type": "stream",
     "text": [
      "best alpha =  1e-08\n",
      "best score =  7.241666666666666\n"
     ]
    },
    {
     "data": {
      "text/plain": [
       "<matplotlib.legend.Legend at 0x7f7592ed3f60>"
      ]
     },
     "execution_count": 31,
     "metadata": {},
     "output_type": "execute_result"
    },
    {
     "data": {
      "image/png": "[encoded data removed]",
      "text/plain": [
       "<Figure size 432x288 with 2 Axes>"
      ]
     },
     "metadata": {
      "needs_background": "light"
     },
     "output_type": "display_data"
    }
   ],
   "source": [
    "def get_best_model_iq(train, test):\n",
    "    # Step 1: specify the form of the model\n",
    "    model_formula = \"total_cases ~ 1 + \" \\\n",
    "                \"reanalysis_dew_point_temp_k + \" \\\n",
    "                \"reanalysis_min_air_temp_k + \" \\\n",
    "                \"reanalysis_precip_amt_kg_per_m2 + \" \\\n",
    "                \"reanalysis_relative_humidity_percent + \" \\\n",
    "                \"reanalysis_specific_humidity_g_per_kg + \" \\\n",
    "                \"reanalysis_tdtr_k + \" \\\n",
    "                \"station_min_temp_c + \" \\\n",
    "                \"reanalysis_dew_point_temp_k_pr1 + \" \\\n",
    "                \"reanalysis_min_air_temp_k_pr1 + \" \\\n",
    "                \"reanalysis_precip_amt_kg_per_m2_pr1 + \" \\\n",
    "                \"reanalysis_relative_humidity_percent_pr1 + \" \\\n",
    "                \"reanalysis_specific_humidity_g_per_kg_pr1 + \" \\\n",
    "                \"reanalysis_tdtr_k_pr1 + \" \\\n",
    "                \"station_min_temp_c_pr1 + \" \\\n",
    "                \"reanalysis_dew_point_temp_k_pr2 + \" \\\n",
    "                \"reanalysis_min_air_temp_k_pr2 + \" \\\n",
    "                \"reanalysis_precip_amt_kg_per_m2_pr2 + \" \\\n",
    "                \"reanalysis_relative_humidity_percent_pr2 + \" \\\n",
    "                \"reanalysis_specific_humidity_g_per_kg_pr2 + \" \\\n",
    "                \"reanalysis_tdtr_k_pr2 + \" \\\n",
    "                \"station_min_temp_c_pr2 \"\n",
    "    \n",
    "    grid = 10 ** np.arange(-8, -3, dtype=np.float64)\n",
    "                    \n",
    "    best_alpha = []\n",
    "    best_score = 1000\n",
    "        \n",
    "    # Step 2: Find the best hyper parameter, alpha\n",
    "    for alpha in grid:\n",
    "        model = smf.glm(formula=model_formula,\n",
    "                        data=train,\n",
    "                        family=sm.families.NegativeBinomial(alpha=alpha))\n",
    "\n",
    "        results = model.fit()\n",
    "        predictions = results.predict(test).astype(int)\n",
    "        score = eval_measures.meanabs(predictions, test.total_cases)\n",
    "\n",
    "        if score < best_score:\n",
    "            best_alpha = alpha\n",
    "            best_score = score\n",
    "\n",
    "    print('best alpha = ', best_alpha)\n",
    "    print('best score = ', best_score)\n",
    "            \n",
    "    # Step 3: refit on entire dataset\n",
    "    full_dataset = pd.concat([train, test])\n",
    "    model = smf.glm(formula=model_formula,\n",
    "                    data=full_dataset,\n",
    "                    family=sm.families.NegativeBinomial(alpha=best_alpha))\n",
    "\n",
    "    fitted_model = model.fit()\n",
    "    return fitted_model\n",
    "    \n",
    "#sj_best_model = get_best_model_iq(sj_train_subtrain, sj_train_subtest)\n",
    "iq_best_model = get_best_model_iq(iq_train_subtrain, iq_train_subtest)\n",
    "\n",
    "figs, axes = plt.subplots(nrows=2, ncols=1)\n",
    "\n",
    "# plot sj\n",
    "#sj_train['fitted'] = sj_best_model.fittedvalues\n",
    "#sj_train.fitted.plot(ax=axes[0], label=\"Predictions\")\n",
    "#sj_train.total_cases.plot(ax=axes[0], label=\"Actual\")\n",
    "\n",
    "# plot iq\n",
    "iq_train['fitted'] = iq_best_model.fittedvalues\n",
    "iq_train.fitted.plot(ax=axes[1], label=\"Predictions\")\n",
    "iq_train.total_cases.plot(ax=axes[1], label=\"Actual\")\n",
    "\n",
    "plt.suptitle(\"Dengue Predicted Cases vs. Actual Cases\")\n",
    "plt.legend()"
   ]
  },
  {
   "cell_type": "code",
   "execution_count": 35,
   "metadata": {
    "collapsed": true
   },
   "outputs": [],
   "source": [
    "test_features = pd.read_csv('data-processed/dengue_features_test.csv',\n",
    "                             index_col=[0,1,2])"
   ]
  },
  {
   "cell_type": "code",
   "execution_count": 39,
   "metadata": {},
   "outputs": [],
   "source": [
    "test_features_shifted1 = test_features.shift(1,axis = 0)\n",
    "test_features_shifted2 = test_features.shift(2,axis = 0)"
   ]
  },
  {
   "cell_type": "code",
   "execution_count": 41,
   "metadata": {
    "collapsed": true
   },
   "outputs": [],
   "source": [
    "test_features_shifted1 = test_features_shifted1.rename(columns={'week_start_date':'week_start_date_pr1',\n",
    " 'ndvi_ne':'ndvi_ne_pr1',\n",
    " 'ndvi_nw':'ndvi_nw_pr1',\n",
    " 'ndvi_se':'ndvi_se_Pr1',\n",
    " 'ndvi_sw':'ndvi_sw_pr1',\n",
    " 'precipitation_amt_mm':'precipitation_amt_mm_pr1',\n",
    " 'reanalysis_air_temp_k':'reanalysis_air_temp_k_pr1',\n",
    " 'reanalysis_avg_temp_k':'reanalysis_avg_temp_k_pr1',\n",
    " 'reanalysis_dew_point_temp_k':'reanalysis_dew_point_temp_k_pr1',\n",
    " 'reanalysis_max_air_temp_k':'reanalysis_max_air_temp_k_pr1',\n",
    " 'reanalysis_min_air_temp_k':'reanalysis_min_air_temp_k_pr1',\n",
    " 'reanalysis_precip_amt_kg_per_m2':'reanalysis_precip_amt_kg_per_m2_pr1',\n",
    " 'reanalysis_relative_humidity_percent':'reanalysis_relative_humidity_percent_pr1',\n",
    " 'reanalysis_sat_precip_amt_mm':'reanalysis_sat_precip_amt_mm_pr1',\n",
    " 'reanalysis_specific_humidity_g_per_kg':'reanalysis_specific_humidity_g_per_kg_pr1',\n",
    " 'reanalysis_tdtr_k':'reanalysis_tdtr_k_pr1',\n",
    " 'station_avg_temp_c':'station_avg_temp_c_pr1',\n",
    " 'station_diur_temp_rng_c':'station_diur_temp_rng_c_pr1',\n",
    " 'station_max_temp_c':'station_max_temp_c_pr1',\n",
    " 'station_min_temp_c':'station_min_temp_c_pr1',\n",
    " 'station_precip_mm':'station_precip_mm_pr1'})"
   ]
  },
  {
   "cell_type": "code",
   "execution_count": 43,
   "metadata": {
    "collapsed": true
   },
   "outputs": [],
   "source": [
    "test_features_shifted2 = test_features_shifted2.rename(columns={'week_start_date':'week_start_date_pr2',\n",
    " 'ndvi_ne':'ndvi_ne_pr2',\n",
    " 'ndvi_nw':'ndvi_nw_pr2',\n",
    " 'ndvi_se':'ndvi_se_Pr2',\n",
    " 'ndvi_sw':'ndvi_sw_pr2',\n",
    " 'precipitation_amt_mm':'precipitation_amt_mm_pr2',\n",
    " 'reanalysis_air_temp_k':'reanalysis_air_temp_k_pr2',\n",
    " 'reanalysis_avg_temp_k':'reanalysis_avg_temp_k_pr2',\n",
    " 'reanalysis_dew_point_temp_k':'reanalysis_dew_point_temp_k_pr2',\n",
    " 'reanalysis_max_air_temp_k':'reanalysis_max_air_temp_k_pr2',\n",
    " 'reanalysis_min_air_temp_k':'reanalysis_min_air_temp_k_pr2',\n",
    " 'reanalysis_precip_amt_kg_per_m2':'reanalysis_precip_amt_kg_per_m2_pr2',\n",
    " 'reanalysis_relative_humidity_percent':'reanalysis_relative_humidity_percent_pr2',\n",
    " 'reanalysis_sat_precip_amt_mm':'reanalysis_sat_precip_amt_mm_pr2',\n",
    " 'reanalysis_specific_humidity_g_per_kg':'reanalysis_specific_humidity_g_per_kg_pr2',\n",
    " 'reanalysis_tdtr_k':'reanalysis_tdtr_k_pr2',\n",
    " 'station_avg_temp_c':'station_avg_temp_c_pr2',\n",
    " 'station_diur_temp_rng_c':'station_diur_temp_rng_c_pr2',\n",
    " 'station_max_temp_c':'station_max_temp_c_pr2',\n",
    " 'station_min_temp_c':'station_min_temp_c_pr2',\n",
    " 'station_precip_mm':'station_precip_mm_pr2'})"
   ]
  },
  {
   "cell_type": "code",
   "execution_count": 46,
   "metadata": {
    "collapsed": true
   },
   "outputs": [],
   "source": [
    "df_test = pd.merge(test_features_shifted1, test_features_shifted2, how='inner',on =['city','year','weekofyear' ])"
   ]
  },
  {
   "cell_type": "code",
   "execution_count": 49,
   "metadata": {},
   "outputs": [],
   "source": [
    "shifted_testset_full = pd.merge(df_test, test_features, how='inner',on =['city','year','weekofyear' ])"
   ]
  },
  {
   "cell_type": "code",
   "execution_count": 50,
   "metadata": {},
   "outputs": [
    {
     "data": {
      "text/plain": [
       "(416, 63)"
      ]
     },
     "execution_count": 50,
     "metadata": {},
     "output_type": "execute_result"
    }
   ],
   "source": [
    "shifted_testset_full.shape"
   ]
  },
  {
   "cell_type": "code",
   "execution_count": 51,
   "metadata": {},
   "outputs": [
    {
     "name": "stdout",
     "output_type": "stream",
     "text": [
      "(260,)\n",
      "(156,)\n"
     ]
    }
   ],
   "source": [
    "sj_test = preprocess_data_sj(shifted_testset_full)\n",
    "iq_test = preprocess_data_iq(shifted_testset_full)\n",
    "\n",
    "sj_predictions = sj_best_model.predict(sj_test).astype(int)\n",
    "iq_predictions = iq_best_model.predict(iq_test).astype(int)\n",
    "\n",
    "submission = pd.read_csv(\"data-processed/submission_format.csv\",\n",
    "                         index_col=[0, 1, 2])\n",
    "\n",
    "print(sj_predictions.shape)\n",
    "print(iq_predictions.shape)\n",
    "submission.total_cases = np.concatenate([sj_predictions, iq_predictions])\n",
    "submission.to_csv(\"data-processed/benchmark.csv\")\n"
   ]
  },
  {
   "cell_type": "code",
   "execution_count": null,
   "metadata": {
    "collapsed": true
   },
   "outputs": [],
   "source": []
  },
  {
   "cell_type": "code",
   "execution_count": null,
   "metadata": {
    "collapsed": true
   },
   "outputs": [],
   "source": []
  }
 ],
 "metadata": {
  "kernelspec": {
   "display_name": "DengiAI",
   "language": "python",
   "name": "dengai"
  },
  "language_info": {
   "codemirror_mode": {
    "name": "ipython",
    "version": 3
   },
   "file_extension": ".py",
   "mimetype": "text/x-python",
   "name": "python",
   "nbconvert_exporter": "python",
   "pygments_lexer": "ipython3",
   "version": "3.7.3"
  }
 },
 "nbformat": 4,
 "nbformat_minor": 2
}
